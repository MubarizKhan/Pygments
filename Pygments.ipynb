{
  "nbformat": 4,
  "nbformat_minor": 0,
  "metadata": {
    "colab": {
      "name": "Pygments.ipynb",
      "provenance": [],
      "authorship_tag": "ABX9TyP7Wu6CHSU8/tIQLNZnma40",
      "include_colab_link": true
    },
    "kernelspec": {
      "name": "python3",
      "display_name": "Python 3"
    },
    "language_info": {
      "name": "python"
    }
  },
  "cells": [
    {
      "cell_type": "markdown",
      "metadata": {
        "id": "view-in-github",
        "colab_type": "text"
      },
      "source": [
        "<a href=\"https://colab.research.google.com/github/MubarizKhan/Pygments/blob/main/Pygments.ipynb\" target=\"_parent\"><img src=\"https://colab.research.google.com/assets/colab-badge.svg\" alt=\"Open In Colab\"/></a>"
      ]
    },
    {
      "cell_type": "code",
      "metadata": {
        "id": "mp_P7KR7sAu-",
        "colab": {
          "base_uri": "https://localhost:8080/"
        },
        "outputId": "2c3b0b0e-5b0a-496f-9d17-bfe1845d39db"
      },
      "source": [
        "!pip install -qq google-play-scraper\n",
        "!pip install -qq -U watermark\n",
        "%reload_ext watermark\n",
        "%watermark -v -p pandas,matplotlib,seaborn,google_play_scraper"
      ],
      "execution_count": null,
      "outputs": [
        {
          "output_type": "stream",
          "text": [
            "Python implementation: CPython\n",
            "Python version       : 3.7.11\n",
            "IPython version      : 5.5.0\n",
            "\n",
            "pandas             : 1.1.5\n",
            "matplotlib         : 3.2.2\n",
            "seaborn            : 0.11.1\n",
            "google_play_scraper: 1.0.1\n",
            "\n"
          ],
          "name": "stdout"
        }
      ]
    },
    {
      "cell_type": "code",
      "metadata": {
        "id": "AEO_QVvfPGzz"
      },
      "source": [
        "# https://pygments.org/docs/quickstart/"
      ],
      "execution_count": null,
      "outputs": []
    },
    {
      "cell_type": "code",
      "metadata": {
        "id": "Z4NauyRcHdJp"
      },
      "source": [
        "import json\n",
        "import pandas as pd\n",
        "from tqdm import tqdm\n",
        "\n",
        "import seaborn as sns\n",
        "import matplotlib.pyplot as plt\n",
        "from pygments import highlight\n"
      ],
      "execution_count": null,
      "outputs": []
    },
    {
      "cell_type": "code",
      "metadata": {
        "colab": {
          "base_uri": "https://localhost:8080/",
          "height": 122
        },
        "id": "OfLO-uAUJWuh",
        "outputId": "c4483707-934e-4d70-f905-093f5fe91a27"
      },
      "source": [
        "'''This is the home of Pygments.\n",
        " It is a generic syntax highlighter suitable for use in code hosting, forums, \n",
        " wikis or other applications that need to prettify source code. Highlights are:\n",
        "\n",
        "    a wide range of over 500 languages and other text formats is supported\n",
        "\n",
        "    special attention is paid to details that increase highlighting quality\n",
        "\n",
        "    support for new languages and formats are added easily; \n",
        "    most languages use a simple regex-based lexing mechanism\n",
        "\n",
        "    a number of output formats is available, among them HTML, RTF, LaTeX and ANSI sequences\n",
        "\n",
        "    it is usable as a command-line tool and as a library'''\n"
      ],
      "execution_count": null,
      "outputs": [
        {
          "output_type": "execute_result",
          "data": {
            "application/vnd.google.colaboratory.intrinsic+json": {
              "type": "string"
            },
            "text/plain": [
              "'This is the home of Pygments.\\n It is a generic syntax highlighter suitable for use in code hosting, forums, \\n wikis or other applications that need to prettify source code. Highlights are:\\n\\n    a wide range of over 500 languages and other text formats is supported\\n\\n    special attention is paid to details that increase highlighting quality\\n\\n    support for new languages and formats are added easily; \\n    most languages use a simple regex-based lexing mechanism\\n\\n    a number of output formats is available, among them HTML, RTF, LaTeX and ANSI sequences\\n\\n    it is usable as a command-line tool and as a library'"
            ]
          },
          "metadata": {},
          "execution_count": 16
        }
      ]
    },
    {
      "cell_type": "code",
      "metadata": {
        "colab": {
          "base_uri": "https://localhost:8080/",
          "height": 139
        },
        "id": "O2csfFYVJXLP",
        "outputId": "5eba44c1-3382-49c4-ca78-39ca1d22cd4b"
      },
      "source": [
        "'''\n",
        "    There are four types of components that work together highlighting a piece of code:\n",
        "    \n",
        "    A lexer splits the source into tokens, \n",
        "    fragments of the source that have a token type that determines what the text represents semantically \n",
        "    (e.g., keyword, string, or comment).\n",
        "    There is a lexer for every language or markup format that Pygments supports.\n",
        "    \n",
        "    The token stream can be piped through filters, \n",
        "    which usually modify the token types or text fragments, e.g. uppercasing all keywords.\n",
        "    \n",
        "    A formatter then takes the token stream and writes it to an output file, in a format such as: \n",
        "    HTML, LaTeX or RTF.\n",
        "    While writing the output, a style determines how to highlight all the different token types. \n",
        "    It maps them to attributes like “red and bold”.\n",
        "'''"
      ],
      "execution_count": null,
      "outputs": [
        {
          "output_type": "execute_result",
          "data": {
            "application/vnd.google.colaboratory.intrinsic+json": {
              "type": "string"
            },
            "text/plain": [
              "'\\n    There are four types of components that work together highlighting a piece of code:\\n    A lexer splits the source into tokens, \\n    fragments of the source that have a token type that determines what the text represents semantically \\n    (e.g., keyword, string, or comment).\\n    There is a lexer for every language or markup format that Pygments supports.\\n    The token stream can be piped through filters, \\n    which usually modify the token types or text fragments, e.g. uppercasing all keywords.\\n    A formatter then takes the token stream and writes it to an output file, in a format such as: \\n    HTML, LaTeX or RTF.\\n    While writing the output, a style determines how to highlight all the different token types. \\n    It maps them to attributes like “red and bold”.\\n'"
            ]
          },
          "metadata": {},
          "execution_count": 7
        }
      ]
    },
    {
      "cell_type": "code",
      "metadata": {
        "colab": {
          "base_uri": "https://localhost:8080/"
        },
        "id": "5P-9aKzuINee",
        "outputId": "b32c1156-901f-41bd-e0e7-897439b5adb3"
      },
      "source": [
        "from pygments import highlight\n",
        "from pygments.lexers import PythonLexer\n",
        "from pygments.formatters import HtmlFormatter\n",
        "\n",
        "code = 'print \"Hello World\"'\n",
        "print(highlight(code, PythonLexer(), HtmlFormatter()))"
      ],
      "execution_count": null,
      "outputs": [
        {
          "output_type": "stream",
          "text": [
            "<div class=\"highlight\"><pre><span></span><span class=\"nb\">print</span> <span class=\"s2\">&quot;Hello World&quot;</span>\n",
            "</pre></div>\n",
            "\n"
          ],
          "name": "stdout"
        }
      ]
    },
    {
      "cell_type": "code",
      "metadata": {
        "colab": {
          "base_uri": "https://localhost:8080/",
          "height": 70
        },
        "id": "QcEAlILyKgvi",
        "outputId": "dc4d375f-84b7-43c2-cbcd-664a85dc9364"
      },
      "source": [
        "''' As you can see, Pygments uses CSS classes\n",
        "    (by default,but you can change that) instead of inline styles in\n",
        "    order to avoid outputting redundant style information over and over. \n",
        "    A CSS stylesheet that contains all CSS classes possibly used in the output can be produced by:'''"
      ],
      "execution_count": null,
      "outputs": [
        {
          "output_type": "execute_result",
          "data": {
            "application/vnd.google.colaboratory.intrinsic+json": {
              "type": "string"
            },
            "text/plain": [
              "' As you can see, Pygments uses CSS classes\\n    (by default,but you can change that) instead of inline styles in\\n    order to avoid outputting redundant style information over and over. \\n    A CSS stylesheet that contains all CSS classes possibly used in the output can be produced by:'"
            ]
          },
          "metadata": {},
          "execution_count": 9
        }
      ]
    },
    {
      "cell_type": "code",
      "metadata": {
        "colab": {
          "base_uri": "https://localhost:8080/"
        },
        "id": "IoJGVIHaJXne",
        "outputId": "01f61a9d-a090-4681-a916-031484bbbf73"
      },
      "source": [
        "print(HtmlFormatter().get_style_defs('.highlight'))"
      ],
      "execution_count": null,
      "outputs": [
        {
          "output_type": "stream",
          "text": [
            ".highlight .hll { background-color: #ffffcc }\n",
            ".highlight  { background: #f8f8f8; }\n",
            ".highlight .c { color: #408080; font-style: italic } /* Comment */\n",
            ".highlight .err { border: 1px solid #FF0000 } /* Error */\n",
            ".highlight .k { color: #008000; font-weight: bold } /* Keyword */\n",
            ".highlight .o { color: #666666 } /* Operator */\n",
            ".highlight .ch { color: #408080; font-style: italic } /* Comment.Hashbang */\n",
            ".highlight .cm { color: #408080; font-style: italic } /* Comment.Multiline */\n",
            ".highlight .cp { color: #BC7A00 } /* Comment.Preproc */\n",
            ".highlight .cpf { color: #408080; font-style: italic } /* Comment.PreprocFile */\n",
            ".highlight .c1 { color: #408080; font-style: italic } /* Comment.Single */\n",
            ".highlight .cs { color: #408080; font-style: italic } /* Comment.Special */\n",
            ".highlight .gd { color: #A00000 } /* Generic.Deleted */\n",
            ".highlight .ge { font-style: italic } /* Generic.Emph */\n",
            ".highlight .gr { color: #FF0000 } /* Generic.Error */\n",
            ".highlight .gh { color: #000080; font-weight: bold } /* Generic.Heading */\n",
            ".highlight .gi { color: #00A000 } /* Generic.Inserted */\n",
            ".highlight .go { color: #888888 } /* Generic.Output */\n",
            ".highlight .gp { color: #000080; font-weight: bold } /* Generic.Prompt */\n",
            ".highlight .gs { font-weight: bold } /* Generic.Strong */\n",
            ".highlight .gu { color: #800080; font-weight: bold } /* Generic.Subheading */\n",
            ".highlight .gt { color: #0044DD } /* Generic.Traceback */\n",
            ".highlight .kc { color: #008000; font-weight: bold } /* Keyword.Constant */\n",
            ".highlight .kd { color: #008000; font-weight: bold } /* Keyword.Declaration */\n",
            ".highlight .kn { color: #008000; font-weight: bold } /* Keyword.Namespace */\n",
            ".highlight .kp { color: #008000 } /* Keyword.Pseudo */\n",
            ".highlight .kr { color: #008000; font-weight: bold } /* Keyword.Reserved */\n",
            ".highlight .kt { color: #B00040 } /* Keyword.Type */\n",
            ".highlight .m { color: #666666 } /* Literal.Number */\n",
            ".highlight .s { color: #BA2121 } /* Literal.String */\n",
            ".highlight .na { color: #7D9029 } /* Name.Attribute */\n",
            ".highlight .nb { color: #008000 } /* Name.Builtin */\n",
            ".highlight .nc { color: #0000FF; font-weight: bold } /* Name.Class */\n",
            ".highlight .no { color: #880000 } /* Name.Constant */\n",
            ".highlight .nd { color: #AA22FF } /* Name.Decorator */\n",
            ".highlight .ni { color: #999999; font-weight: bold } /* Name.Entity */\n",
            ".highlight .ne { color: #D2413A; font-weight: bold } /* Name.Exception */\n",
            ".highlight .nf { color: #0000FF } /* Name.Function */\n",
            ".highlight .nl { color: #A0A000 } /* Name.Label */\n",
            ".highlight .nn { color: #0000FF; font-weight: bold } /* Name.Namespace */\n",
            ".highlight .nt { color: #008000; font-weight: bold } /* Name.Tag */\n",
            ".highlight .nv { color: #19177C } /* Name.Variable */\n",
            ".highlight .ow { color: #AA22FF; font-weight: bold } /* Operator.Word */\n",
            ".highlight .w { color: #bbbbbb } /* Text.Whitespace */\n",
            ".highlight .mb { color: #666666 } /* Literal.Number.Bin */\n",
            ".highlight .mf { color: #666666 } /* Literal.Number.Float */\n",
            ".highlight .mh { color: #666666 } /* Literal.Number.Hex */\n",
            ".highlight .mi { color: #666666 } /* Literal.Number.Integer */\n",
            ".highlight .mo { color: #666666 } /* Literal.Number.Oct */\n",
            ".highlight .sa { color: #BA2121 } /* Literal.String.Affix */\n",
            ".highlight .sb { color: #BA2121 } /* Literal.String.Backtick */\n",
            ".highlight .sc { color: #BA2121 } /* Literal.String.Char */\n",
            ".highlight .dl { color: #BA2121 } /* Literal.String.Delimiter */\n",
            ".highlight .sd { color: #BA2121; font-style: italic } /* Literal.String.Doc */\n",
            ".highlight .s2 { color: #BA2121 } /* Literal.String.Double */\n",
            ".highlight .se { color: #BB6622; font-weight: bold } /* Literal.String.Escape */\n",
            ".highlight .sh { color: #BA2121 } /* Literal.String.Heredoc */\n",
            ".highlight .si { color: #BB6688; font-weight: bold } /* Literal.String.Interpol */\n",
            ".highlight .sx { color: #008000 } /* Literal.String.Other */\n",
            ".highlight .sr { color: #BB6688 } /* Literal.String.Regex */\n",
            ".highlight .s1 { color: #BA2121 } /* Literal.String.Single */\n",
            ".highlight .ss { color: #19177C } /* Literal.String.Symbol */\n",
            ".highlight .bp { color: #008000 } /* Name.Builtin.Pseudo */\n",
            ".highlight .fm { color: #0000FF } /* Name.Function.Magic */\n",
            ".highlight .vc { color: #19177C } /* Name.Variable.Class */\n",
            ".highlight .vg { color: #19177C } /* Name.Variable.Global */\n",
            ".highlight .vi { color: #19177C } /* Name.Variable.Instance */\n",
            ".highlight .vm { color: #19177C } /* Name.Variable.Magic */\n",
            ".highlight .il { color: #666666 } /* Literal.Number.Integer.Long */\n"
          ],
          "name": "stdout"
        }
      ]
    },
    {
      "cell_type": "code",
      "metadata": {
        "colab": {
          "base_uri": "https://localhost:8080/",
          "height": 87
        },
        "id": "P-ks_4x3JX4G",
        "outputId": "52578ff0-fc10-46e4-8313-0893021cd331"
      },
      "source": [
        "'''Options\n",
        "\n",
        "  The highlight() function supports a fourth argument called outfile, it must be a file object if given. \n",
        "  The formatted output will then be written to this file instead of being returned as a string.\n",
        "\n",
        "  Lexers and formatters both support options. \n",
        "  They are given to them as keyword arguments either to the class or to the lookup method:'''"
      ],
      "execution_count": null,
      "outputs": [
        {
          "output_type": "execute_result",
          "data": {
            "application/vnd.google.colaboratory.intrinsic+json": {
              "type": "string"
            },
            "text/plain": [
              "'Options\\n\\n  The highlight() function supports a fourth argument called outfile, it must be a file object if given. \\n  The formatted output will then be written to this file instead of being returned as a string.\\n\\n  Lexers and formatters both support options. \\n  They are given to them as keyword arguments either to the class or to the lookup method:'"
            ]
          },
          "metadata": {},
          "execution_count": 14
        }
      ]
    },
    {
      "cell_type": "code",
      "metadata": {
        "colab": {
          "base_uri": "https://localhost:8080/"
        },
        "id": "ZuH3oEEHLEFd",
        "outputId": "5b8566d3-5e15-44d5-a1f3-4f142f766ad8"
      },
      "source": [
        "from pygments import highlight\n",
        "from pygments.lexers import get_lexer_by_name\n",
        "from pygments.formatters import HtmlFormatter\n",
        "'''\n",
        "This makes the lexer strip all leading and trailing whitespace from the input (stripall option), \n",
        "lets the formatter output line numbers (linenos option), and sets the wrapping <div>’s class to source (instead of highlight).\n",
        "\n",
        "Important options include:\n",
        "\n",
        "encodingfor lexers and formatters\n",
        "    Since Pygments uses Unicode strings internally, \n",
        "    this determines which encoding will be used to convert to or from byte strings.\n",
        "\n",
        "stylefor formatters\n",
        "    The name of the style to use when writing the output.\n",
        "'''\n",
        "lexer = get_lexer_by_name(\"python\", stripall=True)\n",
        "formatter = HtmlFormatter(linenos=True, cssclass=\"source\")\n",
        "result = highlight(code, lexer, formatter)\n",
        "print(result)"
      ],
      "execution_count": null,
      "outputs": [
        {
          "output_type": "stream",
          "text": [
            "<table class=\"sourcetable\"><tr><td class=\"linenos\"><div class=\"linenodiv\"><pre>1</pre></div></td><td class=\"code\"><div class=\"source\"><pre><span></span><span class=\"nb\">print</span> <span class=\"s2\">&quot;Hello World&quot;</span>\n",
            "</pre></div>\n",
            "</td></tr></table>\n"
          ],
          "name": "stdout"
        }
      ]
    },
    {
      "cell_type": "code",
      "metadata": {
        "colab": {
          "base_uri": "https://localhost:8080/"
        },
        "id": "CV-bNwuyM7TB",
        "outputId": "337d0427-f6f9-4cfd-cb18-0112e640ccfb"
      },
      "source": [
        "from pygments.lexers import (get_lexer_by_name,\n",
        "\n",
        "get_lexer_for_filename, get_lexer_for_mimetype)\n",
        "\n",
        "get_lexer_by_name('python')\n",
        "# <pygments.lexers.PythonLexer>\n",
        "\n",
        "get_lexer_for_filename('spam.rb')\n",
        "# <pygments.lexers.RubyLexer>\n",
        "\n",
        "get_lexer_for_mimetype('text/x-perl')\n",
        "# <pygments.lexers.PerlLexer>"
      ],
      "execution_count": null,
      "outputs": [
        {
          "output_type": "execute_result",
          "data": {
            "text/plain": [
              "<pygments.lexers.PerlLexer>"
            ]
          },
          "metadata": {},
          "execution_count": 21
        }
      ]
    },
    {
      "cell_type": "code",
      "metadata": {
        "id": "_9NTT_CwO5Ss"
      },
      "source": [
        ""
      ],
      "execution_count": null,
      "outputs": []
    }
  ]
}